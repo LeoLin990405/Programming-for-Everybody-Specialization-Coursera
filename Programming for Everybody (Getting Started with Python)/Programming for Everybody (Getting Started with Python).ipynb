{
 "cells": [
  {
   "cell_type": "markdown",
   "id": "64159ad4",
   "metadata": {},
   "source": [
    " WEEK 3 Assignment: Write Hello World"
   ]
  },
  {
   "cell_type": "code",
   "execution_count": 1,
   "id": "cfcba742",
   "metadata": {},
   "outputs": [
    {
     "name": "stdout",
     "output_type": "stream",
     "text": [
      "Hello World\n"
     ]
    }
   ],
   "source": [
    "# WEEK 3 Assignment: Write Hello World\n",
    "print(\"Hello World\")"
   ]
  },
  {
   "cell_type": "markdown",
   "id": "5be74544",
   "metadata": {},
   "source": [
    " WEEK 4 Assignment: Assignment 2.2\n",
    " Write a program that uses input to prompt a user for their name and then welcomes them. Note that input will pop up a dialog box. Enter Sarah in the pop-up box when you are prompted so your output will match the desired output."
   ]
  },
  {
   "cell_type": "code",
   "execution_count": 2,
   "id": "d4a644b3",
   "metadata": {},
   "outputs": [
    {
     "name": "stdout",
     "output_type": "stream",
     "text": [
      "Enter your nameLeo\n",
      "Hello Leo\n"
     ]
    }
   ],
   "source": [
    "name = input(\"Enter your name\")\n",
    "print(f\"Hello {name}\")\n",
    "#or\n",
    "name = input(\"Enter your name\")\n",
    "print(\"Hello\" ,name)"
   ]
  },
  {
   "cell_type": "markdown",
   "id": "a8fff0f3",
   "metadata": {},
   "source": [
    "2.3 Write a program to prompt the user for hours and rate per hour using input to compute gross pay. Use 35 hours and a rate of 2.75 per hour to test the program (the pay should be 96.25). You should use input to read a string and float() to convert the string to a number. Do not worry about error checking or bad user data."
   ]
  },
  {
   "cell_type": "code",
   "execution_count": null,
   "id": "1cbed1d2",
   "metadata": {},
   "outputs": [],
   "source": [
    "# This first line is provided for you\n",
    "\n",
    "hrs = input(\"Enter Hours:\")\n",
    "pay=input(\"Enter Rate:\")\n",
    "final=float(hrs)*float(pay)\n",
    "print(\"Pay:\",final)"
   ]
  },
  {
   "cell_type": "markdown",
   "id": "0fca6794",
   "metadata": {},
   "source": [
    "3.1 Write a program to prompt the user for hours and rate per hour using input to compute gross pay. Pay the hourly rate for the hours up to 40 and 1.5 times the hourly rate for all hours worked above 40 hours. Use 45 hours and a rate of 10.50 per hour to test the program (the pay should be 498.75). You should use input to read a string and float() to convert the string to a number. Do not worry about error checking the user input - assume the user types numbers properly."
   ]
  },
  {
   "cell_type": "code",
   "execution_count": null,
   "id": "21069668",
   "metadata": {},
   "outputs": [],
   "source": [
    "hrs = input(\"Enter Hours:\")\n",
    "pay=input('Enter Rate:')\n",
    "hrs_t=float(hrs)\n",
    "pay_t=float(pay)\n",
    "if hrs_t>40:\n",
    "    mon=40*pay_t\n",
    "    pay_t=pay_t*1.5\n",
    "    money=pay_t*(hrs_t-40)+mon\n",
    "else:\n",
    "    pay_t=pay_t\n",
    "    money=pay_t*hrs_t\n",
    "print(money)\n"
   ]
  },
  {
   "cell_type": "markdown",
   "id": "71b9b052",
   "metadata": {},
   "source": [
    "3.3 Write a program to prompt for a score between 0.0 and 1.0. If the score is out of range, print an error. If the score is between 0.0 and 1.0, print a grade using the following table:\n",
    "Score Grade\n",
    ">= 0.9 A\n",
    ">= 0.8 B\n",
    ">= 0.7 C\n",
    ">= 0.6 D\n",
    "< 0.6 F\n",
    "If the user enters a value out of range, print a suitable error message and exit. For the test, enter a score of 0.85."
   ]
  },
  {
   "cell_type": "code",
   "execution_count": 4,
   "id": "8e7032cb",
   "metadata": {},
   "outputs": [
    {
     "name": "stdout",
     "output_type": "stream",
     "text": [
      "Enter Score: 0.85\n",
      "B\n"
     ]
    }
   ],
   "source": [
    "score = input(\"Enter Score: \")\n",
    "score_t=float(score)\n",
    "if 0.9<=score_t<=1:\n",
    "    print(\"A\")\n",
    "elif score_t>=0.8:\n",
    "    print(\"B\")\n",
    "elif score_t>=0.7:\n",
    "    print(\"C\")\n",
    "elif score_t>=0.6:\n",
    "    print(\"D\")\n",
    "elif score_t<0.6:\n",
    "    print(\"F\")\n",
    "elif score_t<0:\n",
    "    print(\"ERROR!\")\n",
    "\n",
    "    "
   ]
  },
  {
   "cell_type": "markdown",
   "id": "668f9840",
   "metadata": {},
   "source": [
    "4.6 Write a program to prompt the user for hours and rate per hour using input to compute gross pay. Pay should be the normal rate for hours up to 40 and time-and-a-half for the hourly rate for all hours worked above 40 hours. Put the logic to do the computation of pay in a function called computepay() and use the function to do the computation. The function should return a value. Use 45 hours and a rate of 10.50 per hour to test the program (the pay should be 498.75). You should use input to read a string and float() to convert the string to a number. Do not worry about error checking the user input unless you want to - you can assume the user types numbers properly. Do not name your variable sum or use the sum() function."
   ]
  },
  {
   "cell_type": "code",
   "execution_count": null,
   "id": "9bb8c308",
   "metadata": {},
   "outputs": [],
   "source": [
    "hrs = input(\"Enter Hours:\")\n",
    "Rate=input(\"Enter Rate:\")\n",
    "def computepay(h, r):\n",
    "    if h <=40:\n",
    "       return h*r\n",
    "    else:\n",
    "        return (h-40)*1.5*r+40*r\n",
    "    \n",
    "\n",
    "\n",
    "hrs_t=float(hrs)\n",
    "Rate_t=float(Rate)\n",
    "p = computepay(hrs_t, Rate_t)\n",
    "print(\"Pay\", p)"
   ]
  },
  {
   "cell_type": "markdown",
   "id": "59a05083",
   "metadata": {},
   "source": [
    "5.2 Write a program that repeatedly prompts a user for integer numbers until the user enters 'done'. Once 'done' is entered, print out the largest and smallest of the numbers. If the user enters anything other than a valid number catch it with a try/except and put out an appropriate message and ignore the number. Enter 7, 2, bob, 10, and 4 and match the output below."
   ]
  },
  {
   "cell_type": "code",
   "execution_count": 12,
   "id": "26018394",
   "metadata": {},
   "outputs": [
    {
     "name": "stdout",
     "output_type": "stream",
     "text": [
      "Enter a number: 2\n",
      "Enter a number: 4\n",
      "Enter a number: 10\n",
      "Enter a number: bob\n",
      "Invalid input\n",
      "Enter a number: 6\n",
      "Enter a number: done\n",
      "Maximum is 10\n",
      "Minimum is 2\n"
     ]
    }
   ],
   "source": [
    "largest = None\n",
    "smallest = None\n",
    "while True:\n",
    "    num = input(\"Enter a number: \")\n",
    "    if num == 'done' :\n",
    "        break\n",
    "    try:\n",
    "        numint = int(num)\n",
    "        if smallest is None :\n",
    "            smallest = numint\n",
    "        elif numint < smallest :\n",
    "            smallest = numint\n",
    "        if largest is None :\n",
    "            largest = numint\n",
    "        elif numint > largest :\n",
    "            largest = numint\n",
    "    except:\n",
    "         print(\"Invalid input\")\n",
    "    continue\n",
    "print(\"Maximum is\", largest)\n",
    "print(\"Minimum is\", smallest)"
   ]
  },
  {
   "cell_type": "code",
   "execution_count": null,
   "id": "9ca87ffe",
   "metadata": {},
   "outputs": [],
   "source": []
  }
 ],
 "metadata": {
  "kernelspec": {
   "display_name": "Python 3 (ipykernel)",
   "language": "python",
   "name": "python3"
  },
  "language_info": {
   "codemirror_mode": {
    "name": "ipython",
    "version": 3
   },
   "file_extension": ".py",
   "mimetype": "text/x-python",
   "name": "python",
   "nbconvert_exporter": "python",
   "pygments_lexer": "ipython3",
   "version": "3.9.12"
  }
 },
 "nbformat": 4,
 "nbformat_minor": 5
}
